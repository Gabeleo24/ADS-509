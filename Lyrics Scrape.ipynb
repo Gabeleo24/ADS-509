{
 "cells": [
  {
   "cell_type": "markdown",
   "id": "95952cac",
   "metadata": {},
   "source": [
    "# ADS 509 Module 1: APIs and Web Scraping\n",
    "\n",
    "This notebook has two parts. In the first part, you will scrape lyrics from AZLyrics.com. In the second part, you'll run code that verifies the completeness of your data pull. \n",
    "\n",
    "For this assignment you have chosen two musical artists who have at least 20 songs with lyrics on AZLyrics.com. We start with pulling some information and analyzing them.\n"
   ]
  },
  {
   "cell_type": "markdown",
   "id": "069b7ae8",
   "metadata": {},
   "source": [
    "## General Assignment Instructions\n",
    "\n",
    "These instructions are included in every assignment, to remind you of the coding standards for the class. Feel free to delete this cell after reading it. \n",
    "\n",
    "One sign of mature code is conforming to a style guide. We recommend the [Google Python Style Guide](https://google.github.io/styleguide/pyguide.html). If you use a different style guide, please include a cell with a link. \n",
    "\n",
    "Your code should be relatively easy-to-read, sensibly commented, and clean. Writing code is a messy process, so please be sure to edit your final submission. Remove any cells that are not needed or parts of cells that contain unnecessary code. Remove inessential `import` statements and make sure that all such statements are moved into the designated cell. \n",
    "\n",
    "Make use of non-code cells for written commentary. These cells should be grammatical and clearly written. In some of these cells you will have questions to answer. The questions will be marked by a \"Q:\" and will have a corresponding \"A:\" spot for you. *Make sure to answer every question marked with a `Q:` for full credit.* \n"
   ]
  },
  {
   "cell_type": "markdown",
   "id": "91c8969e",
   "metadata": {},
   "source": [
    "# Importing Libraries"
   ]
  },
  {
   "cell_type": "code",
   "execution_count": 1,
   "id": "1816a0c8",
   "metadata": {},
   "outputs": [
    {
     "name": "stdout",
     "output_type": "stream",
     "text": [
      "Python version: 3.11.10 (main, Sep  7 2024, 01:03:31) [Clang 16.0.0 (clang-1600.0.26.3)]\n",
      "Python executable: /opt/homebrew/opt/python@3.11/bin/python3.11\n",
      "Python path: ['/opt/homebrew/Cellar/python@3.11/3.11.10/Frameworks/Python.framework/Versions/3.11/lib/python311.zip', '/opt/homebrew/Cellar/python@3.11/3.11.10/Frameworks/Python.framework/Versions/3.11/lib/python3.11', '/opt/homebrew/Cellar/python@3.11/3.11.10/Frameworks/Python.framework/Versions/3.11/lib/python3.11/lib-dynload', '', '/Users/home/Library/Python/3.11/lib/python/site-packages', '/opt/homebrew/lib/python3.11/site-packages']\n"
     ]
    }
   ],
   "source": [
    "# Check which Python environment Jupyter is using\n",
    "import sys\n",
    "print(f\"Python version: {sys.version}\")\n",
    "print(f\"Python executable: {sys.executable}\")\n",
    "print(f\"Python path: {sys.path}\")"
   ]
  },
  {
   "cell_type": "code",
   "execution_count": 2,
   "id": "d79eb5c3",
   "metadata": {},
   "outputs": [
    {
     "name": "stdout",
     "output_type": "stream",
     "text": [
      "Successfully imported packages!\n"
     ]
    }
   ],
   "source": [
    "# Add the site-packages directory to the Python path\n",
    "import sys\n",
    "sys.path.append('/opt/homebrew/lib/python3.11/site-packages')\n",
    "\n",
    "# Now try importing the packages\n",
    "import requests\n",
    "from bs4 import BeautifulSoup\n",
    "print(\"Successfully imported packages!\")"
   ]
  },
  {
   "cell_type": "code",
   "execution_count": 3,
   "id": "2dd71e4e",
   "metadata": {},
   "outputs": [],
   "source": [
    "import os\n",
    "import datetime\n",
    "import re\n",
    "\n",
    "# for the lyrics scrape section\n",
    "import requests\n",
    "import time\n",
    "from bs4 import BeautifulSoup\n",
    "from collections import defaultdict, Counter\n",
    "import random"
   ]
  },
  {
   "cell_type": "markdown",
   "id": "45c13af3",
   "metadata": {},
   "source": [
    "---\n",
    "\n",
    "# Lyrics Scrape\n",
    "\n",
    "This section asks you to pull data by scraping www.AZLyrics.com. In the notebooks where you do that work you are asked to store the data in specific ways. "
   ]
  },
  {
   "cell_type": "code",
   "execution_count": 4,
   "id": "5bd7df77",
   "metadata": {},
   "outputs": [],
   "source": [
    "# Add these artists to your dictionary\n",
    "artists = {\n",
    "    'robyn': \"https://www.azlyrics.com/r/robyn.html\",\n",
    "    'cher': \"https://www.azlyrics.com/c/cher.html\",\n",
    "    'cory_asbury': \"https://www.azlyrics.com/c/coryasbury.html\",\n",
    "    'hillsong_united': \"https://www.azlyrics.com/h/hillsongunited.html\"\n",
    "} \n",
    "# You can replace these with your chosen artists\n",
    "\n",
    "# Set up a dictionary of lists to hold our links\n",
    "lyrics_pages = defaultdict(list)\n",
    "\n",
    "for artist, artist_page in artists.items():\n",
    "    # request the page and sleep\n",
    "    r = requests.get(artist_page)\n",
    "    time.sleep(5 + 10*random.random())  # Be nice to the server\n",
    "\n",
    "    # extract the links to lyrics pages from this page\n",
    "    soup = BeautifulSoup(r.text, 'html.parser')\n",
    "    # Find the div containing song links\n",
    "    album_list = soup.find('div', {'class': 'album-list'})\n",
    "    if album_list:\n",
    "        # Get all links to song lyrics\n",
    "        links = album_list.find_all('a', href=True)\n",
    "        for link in links:\n",
    "            if '/lyrics/' in link['href']:\n",
    "                # Add the full URL to our dictionary\n",
    "                lyrics_pages[artist].append('https://www.azlyrics.com' + link['href'])\n",
    "\n",
    "# Verify we have enough songs for each artist\n",
    "for artist, lp in lyrics_pages.items():\n",
    "    assert(len(set(lp)) > 20)\n",
    "    print(f\"For {artist} we have {len(lp)} songs.\")\n",
    "    print(f\"The full pull will take for this artist will take {round(len(lp)*10/3600,2)} hours.\")"
   ]
  },
  {
   "cell_type": "markdown",
   "id": "c236c99b",
   "metadata": {},
   "source": [
    "## A Note on Rate Limiting\n",
    "\n",
    "The lyrics site, www.azlyrics.com, does not have an explicit maximum on number of requests in any one time, but in our testing it appears that too many requests in too short a time will cause the site to stop returning lyrics pages. (Entertainingly, the page that gets returned seems to only have the song title to [a Tom Jones song](https://www.azlyrics.com/lyrics/tomjones/itsnotunusual.html).) \n",
    "\n",
    "Whenever you call `requests.get` to retrieve a page, put a `time.sleep(5 + 10*random.random())` on the next line. This will help you not to get blocked. If you _do_ get blocked, which you can identify if the returned pages are not correct, just request a lyrics page through your browser. You'll be asked to perform a CAPTCHA and then your requests should start working again. \n",
    "\n",
    "## Part 1: Finding Links to Songs Lyrics\n",
    "\n",
    "That general artist page has a list of all songs for that artist with links to the individual song pages. \n",
    "\n",
    "Q: Take a look at the `robots.txt` page on www.azlyrics.com. (You can read more about these pages [here](https://developers.google.com/search/docs/advanced/robots/intro).) Is the scraping we are about to do allowed or disallowed by this page? How do you know? \n",
    "\n",
    "A: <!-- Delete this comment and put your answer here. --> \n"
   ]
  },
  {
   "cell_type": "code",
   "execution_count": 6,
   "id": "ac9d31ec",
   "metadata": {},
   "outputs": [],
   "source": [
    "# Set up a dictionary of lists to hold our links\n",
    "lyrics_pages = defaultdict(list)\n",
    "\n",
    "for artist, artist_page in artists.items():\n",
    "    # request the page and sleep\n",
    "    r = requests.get(artist_page)\n",
    "    time.sleep(5 + 10*random.random())  # Be nice to the server\n",
    "\n",
    "    # extract the links to lyrics pages from this page\n",
    "    soup = BeautifulSoup(r.text, 'html.parser')\n",
    "    # Find the div containing song links\n",
    "    album_list = soup.find('div', {'class': 'album-list'})\n",
    "    if album_list:\n",
    "        # Get all links to song lyrics\n",
    "        links = album_list.find_all('a', href=True)\n",
    "        for link in links:\n",
    "            if '/lyrics/' in link['href']:\n",
    "                # Add the full URL to our dictionary\n",
    "                lyrics_pages[artist].append('https://www.azlyrics.com' + link['href'])\n",
    "\n",
    "# Verify we have enough songs for each artist\n",
    "for artist, lp in lyrics_pages.items():\n",
    "    assert(len(set(lp)) > 20)\n",
    "    print(f\"For {artist} we have {len(lp)} songs.\")\n",
    "    print(f\"The full pull will take for this artist will take {round(len(lp)*10/3600,2)} hours.\")"
   ]
  },
  {
   "cell_type": "markdown",
   "id": "011be6c6",
   "metadata": {},
   "source": [
    "## Part 2: Pulling Lyrics\n",
    "\n",
    "Now that we have the links to our lyrics pages, let's go scrape them! Here are the steps for this part. \n",
    "\n",
    "1. Create an empty folder in our repo called \"lyrics\". \n",
    "1. Iterate over the artists in `lyrics_pages`. \n",
    "1. Create a subfolder in lyrics with the artist's name. For instance, if the artist was Cher you'd have `lyrics/cher/` in your repo.\n",
    "1. Iterate over the pages. \n",
    "1. Request the page and extract the lyrics from the returned HTML file using BeautifulSoup.\n",
    "1. Use the function below, `generate_filename_from_url`, to create a filename based on the lyrics page, then write the lyrics to a text file with that name. \n"
   ]
  },
  {
   "cell_type": "code",
   "execution_count": 9,
   "id": "67693711",
   "metadata": {},
   "outputs": [],
   "source": [
    "def generate_filename_from_link(link):\n",
    "    if not link:\n",
    "        return None\n",
    "    \n",
    "    # drop the http or https and the html\n",
    "    name = link.replace(\"https://\", \"\").replace(\"http://\", \"\")\n",
    "    name = name.replace(\".html\", \"\")\n",
    "    name = name.replace(\"www.azlyrics.com/lyrics/\", \"\")\n",
    "    \n",
    "    # Replace useless characters with UNDERSCORE\n",
    "    name = name.replace(\".\", \"_\").replace(\"/\", \"_\")\n",
    "    \n",
    "    # tack on .txt\n",
    "    name = name + \".txt\"\n",
    "    \n",
    "    return name"
   ]
  },
  {
   "cell_type": "code",
   "execution_count": 10,
   "id": "94a78c78",
   "metadata": {},
   "outputs": [],
   "source": [
    "# Make the lyrics folder here. If you'd like to practice your programming, add functionality \n",
    "# that checks to see if the folder exists. If it does, then use shutil.rmtree to remove it and create a new one.\n",
    "\n",
    "if os.path.isdir(\"lyrics\") : \n",
    "    shutil.rmtree(\"lyrics/\")\n",
    "\n",
    "os.mkdir(\"lyrics\")"
   ]
  },
  {
   "cell_type": "code",
   "execution_count": 12,
   "id": "d655b687",
   "metadata": {},
   "outputs": [
    {
     "name": "stdout",
     "output_type": "stream",
     "text": [
      "Total run time was 0.0 hours.\n",
      "Total pages scraped: 0\n"
     ]
    }
   ],
   "source": [
    "# Make the lyrics folder\n",
    "import shutil\n",
    "if os.path.isdir(\"lyrics\"):\n",
    "    shutil.rmtree(\"lyrics/\")\n",
    "\n",
    "os.mkdir(\"lyrics\")\n",
    "\n",
    "start = time.time()\n",
    "total_pages = 0\n",
    "\n",
    "for artist in lyrics_pages:\n",
    "    # 1. Build a subfolder for the artist\n",
    "    artist_dir = os.path.join(\"lyrics\", artist)\n",
    "    os.mkdir(artist_dir)\n",
    "    \n",
    "    print(f\"Starting to scrape lyrics for {artist}...\")\n",
    "    \n",
    "    # 2. Iterate over the lyrics pages (limit to 25 songs per artist for time)\n",
    "    for page_url in lyrics_pages[artist][:25]:\n",
    "        try:\n",
    "            # 3. Request the lyrics page\n",
    "            response = requests.get(page_url)\n",
    "            time.sleep(5 + 10*random.random())  # Be nice to the server\n",
    "            \n",
    "            # 4. Extract the title and lyrics from the page\n",
    "            soup = BeautifulSoup(response.text, 'html.parser')\n",
    "            \n",
    "            # Find the title\n",
    "            title_div = soup.find('div', {'class': 'ringtone'})\n",
    "            title = \"Unknown Title\"\n",
    "            if title_div and title_div.find_previous('b'):\n",
    "                title = title_div.find_previous('b').text.strip()\n",
    "            \n",
    "            # Find the lyrics\n",
    "            lyrics_div = soup.find('div', {'class': None, 'id': None}, \n",
    "                                  attrs={'style': None})\n",
    "            if lyrics_div:\n",
    "                lyrics = lyrics_div.text.strip()\n",
    "                \n",
    "                # 5. Write out the title, two returns, and the lyrics\n",
    "                filename = generate_filename_from_link(page_url)\n",
    "                with open(os.path.join(artist_dir, filename), 'w', encoding='utf-8') as f:\n",
    "                    f.write(title + '\\n\\n' + lyrics)\n",
    "                \n",
    "                total_pages += 1\n",
    "                print(f\"Saved lyrics for {artist} - {title}\")\n",
    "        except Exception as e:\n",
    "            print(f\"Error processing {page_url}: {e}\")\n",
    "\n",
    "print(f\"Total run time was {round((time.time() - start)/3600,2)} hours.\")\n",
    "print(f\"Total pages scraped: {total_pages}\")"
   ]
  },
  {
   "cell_type": "code",
   "execution_count": 13,
   "id": "e9db7fa3",
   "metadata": {},
   "outputs": [],
   "source": [
    "# Simple word extractor from Peter Norvig: https://norvig.com/spell-correct.html\n",
    "def words(text): \n",
    "    return re.findall(r'\\w+', text.lower())\n",
    "\n",
    "artist_folders = os.listdir(\"lyrics/\")\n",
    "artist_folders = [f for f in artist_folders if os.path.isdir(\"lyrics/\" + f)]\n",
    "\n",
    "for artist in artist_folders:\n",
    "    artist_files = os.listdir(\"lyrics/\" + artist)\n",
    "    artist_files = [f for f in artist_files if 'txt' in f or 'csv' in f or 'tsv' in f]\n",
    "\n",
    "    print(f\"For {artist} we have {len(artist_files)} files.\")\n",
    "\n",
    "    artist_words = []\n",
    "\n",
    "    for f_name in artist_files:\n",
    "        with open(\"lyrics/\" + artist + \"/\" + f_name, encoding='utf-8') as infile:\n",
    "            artist_words.extend(words(infile.read()))\n",
    "            \n",
    "    print(f\"For {artist} we have roughly {len(artist_words)} words, {len(set(artist_words))} are unique.\")\n",
    "    \n",
    "    # Print the most common words\n",
    "    word_counts = Counter(artist_words)\n",
    "    print(f\"Most common words for {artist}:\")\n",
    "    for word, count in word_counts.most_common(20):\n",
    "        if len(word) > 2:  # Filter out very short words\n",
    "            print(f\"  {word}: {count}\")\n",
    "    print(\"\\n\")"
   ]
  },
  {
   "cell_type": "code",
   "execution_count": 14,
   "id": "36c394f1",
   "metadata": {},
   "outputs": [
    {
     "name": "stdout",
     "output_type": "stream",
     "text": [
      "Total run time was 0.0 hours.\n"
     ]
    }
   ],
   "source": [
    "print(f\"Total run time was {round((time.time() - start)/3600,2)} hours.\")"
   ]
  },
  {
   "cell_type": "markdown",
   "id": "054cf14b",
   "metadata": {},
   "source": [
    "---\n",
    "\n",
    "# Evaluation\n",
    "\n",
    "This assignment asks you to pull data by scraping www.AZLyrics.com.  After you have finished the above sections , run all the cells in this notebook. Print this to PDF and submit it, per the instructions."
   ]
  },
  {
   "cell_type": "code",
   "execution_count": null,
   "id": "217c2b0a",
   "metadata": {},
   "outputs": [],
   "source": [
    "# Simple word extractor from Peter Norvig: https://norvig.com/spell-correct.html\n",
    "def words(text): \n",
    "    return re.findall(r'\\w+', text.lower())"
   ]
  },
  {
   "cell_type": "markdown",
   "id": "37778a1c",
   "metadata": {},
   "source": [
    "## Checking Lyrics \n",
    "\n",
    "The output from your lyrics scrape should be stored in files located in this path from the directory:\n",
    "`/lyrics/[Artist Name]/[filename from URL]`. This code summarizes the information at a high level to help the instructor evaluate your work. "
   ]
  },
  {
   "cell_type": "code",
   "execution_count": null,
   "id": "bccac29c",
   "metadata": {},
   "outputs": [],
   "source": [
    "artist_folders = os.listdir(\"lyrics/\")\n",
    "artist_folders = [f for f in artist_folders if os.path.isdir(\"lyrics/\" + f)]\n",
    "\n",
    "for artist in artist_folders : \n",
    "    artist_files = os.listdir(\"lyrics/\" + artist)\n",
    "    artist_files = [f for f in artist_files if 'txt' in f or 'csv' in f or 'tsv' in f]\n",
    "\n",
    "    print(f\"For {artist} we have {len(artist_files)} files.\")\n",
    "\n",
    "    artist_words = []\n",
    "\n",
    "    for f_name in artist_files : \n",
    "        with open(\"lyrics/\" + artist + \"/\" + f_name) as infile : \n",
    "            artist_words.extend(words(infile.read()))\n",
    "\n",
    "            \n",
    "    print(f\"For {artist} we have roughly {len(artist_words)} words, {len(set(artist_words))} are unique.\")\n"
   ]
  },
  {
   "cell_type": "code",
   "execution_count": 16,
   "id": "16f076c8",
   "metadata": {},
   "outputs": [
    {
     "name": "stdout",
     "output_type": "stream",
     "text": [
      "usage: install [-bCcpSsUv] [-f flags] [-g group] [-m mode] [-o owner]\n",
      "               [-M log] [-D dest] [-h hash] [-T tags]\n",
      "               [-B suffix] [-l linkflags] [-N dbdir]\n",
      "               file1 file2\n",
      "       install [-bCcpSsUv] [-f flags] [-g group] [-m mode] [-o owner]\n",
      "               [-M log] [-D dest] [-h hash] [-T tags]\n",
      "               [-B suffix] [-l linkflags] [-N dbdir]\n",
      "               file1 ... fileN directory\n",
      "       install -dU [-vU] [-g group] [-m mode] [-N dbdir] [-o owner]\n",
      "               [-M log] [-D dest] [-h hash] [-T tags]\n",
      "               directory ...\n"
     ]
    }
   ],
   "source": [
    "! install matplotlib"
   ]
  },
  {
   "cell_type": "code",
   "execution_count": 17,
   "id": "7669ebc6",
   "metadata": {},
   "outputs": [
    {
     "ename": "ModuleNotFoundError",
     "evalue": "No module named 'matplotlib'",
     "output_type": "error",
     "traceback": [
      "\u001b[31m---------------------------------------------------------------------------\u001b[39m",
      "\u001b[31mModuleNotFoundError\u001b[39m                       Traceback (most recent call last)",
      "\u001b[36mCell\u001b[39m\u001b[36m \u001b[39m\u001b[32mIn[17]\u001b[39m\u001b[32m, line 2\u001b[39m\n\u001b[32m      1\u001b[39m \u001b[38;5;66;03m# Optional: Add visualization\u001b[39;00m\n\u001b[32m----> \u001b[39m\u001b[32m2\u001b[39m \u001b[38;5;28;01mimport\u001b[39;00m\u001b[38;5;250m \u001b[39m\u001b[34;01mmatplotlib\u001b[39;00m\u001b[34;01m.\u001b[39;00m\u001b[34;01mpyplot\u001b[39;00m\u001b[38;5;250m \u001b[39m\u001b[38;5;28;01mas\u001b[39;00m\u001b[38;5;250m \u001b[39m\u001b[34;01mplt\u001b[39;00m\n\u001b[32m      3\u001b[39m \u001b[38;5;28;01mimport\u001b[39;00m\u001b[38;5;250m \u001b[39m\u001b[34;01mnumpy\u001b[39;00m\u001b[38;5;250m \u001b[39m\u001b[38;5;28;01mas\u001b[39;00m\u001b[38;5;250m \u001b[39m\u001b[34;01mnp\u001b[39;00m\n\u001b[32m      5\u001b[39m \u001b[38;5;66;03m# Create a dictionary to store word counts for each artist\u001b[39;00m\n",
      "\u001b[31mModuleNotFoundError\u001b[39m: No module named 'matplotlib'"
     ]
    }
   ],
   "source": [
    "# Optional: Add visualization\n",
    "import matplotlib.pyplot as plt\n",
    "import numpy as np\n",
    "\n",
    "# Create a dictionary to store word counts for each artist\n",
    "artist_word_counts = {}\n",
    "\n",
    "for artist in artist_folders:\n",
    "    artist_files = os.listdir(\"lyrics/\" + artist)\n",
    "    artist_files = [f for f in artist_files if 'txt' in f or 'csv' in f or 'tsv' in f]\n",
    "\n",
    "    artist_words = []\n",
    "    for f_name in artist_files:\n",
    "        with open(\"lyrics/\" + artist + \"/\" + f_name, encoding='utf-8') as infile:\n",
    "            artist_words.extend(words(infile.read()))\n",
    "    \n",
    "    # Store word counts for this artist\n",
    "    artist_word_counts[artist] = Counter(artist_words)\n",
    "\n",
    "# Plot the most common words for each artist\n",
    "plt.figure(figsize=(15, 10))\n",
    "\n",
    "for i, (artist, word_counts) in enumerate(artist_word_counts.items()):\n",
    "    # Get the 10 most common words with length > 2\n",
    "    common_words = [(word, count) for word, count in word_counts.most_common(50) if len(word) > 2][:10]\n",
    "    words_list, counts = zip(*common_words)\n",
    "    \n",
    "    plt.subplot(2, 2, i+1)\n",
    "    plt.barh(words_list, counts)\n",
    "    plt.title(f\"Most Common Words for {artist}\")\n",
    "    plt.xlabel(\"Count\")\n",
    "    plt.tight_layout()\n",
    "\n",
    "plt.savefig(\"artist_word_comparison.png\")\n",
    "plt.show()"
   ]
  },
  {
   "cell_type": "code",
   "execution_count": null,
   "id": "4317b584",
   "metadata": {},
   "outputs": [],
   "source": []
  }
 ],
 "metadata": {
  "kernelspec": {
   "display_name": "Python 3",
   "language": "python",
   "name": "python3"
  },
  "language_info": {
   "codemirror_mode": {
    "name": "ipython",
    "version": 3
   },
   "file_extension": ".py",
   "mimetype": "text/x-python",
   "name": "python",
   "nbconvert_exporter": "python",
   "pygments_lexer": "ipython3",
   "version": "3.11.10"
  }
 },
 "nbformat": 4,
 "nbformat_minor": 5
}
